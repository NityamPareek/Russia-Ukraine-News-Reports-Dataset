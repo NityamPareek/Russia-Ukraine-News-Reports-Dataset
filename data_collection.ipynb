{
 "cells": [
  {
   "cell_type": "code",
   "execution_count": 28,
   "metadata": {},
   "outputs": [],
   "source": [
    "from gdeltdoc import GdeltDoc, Filters\n",
    "import pandas as pd"
   ]
  },
  {
   "cell_type": "code",
   "execution_count": 21,
   "metadata": {},
   "outputs": [],
   "source": [
    "# Customize these lists to get data for your desired dates\n",
    "months = {'01', '02', '03', '04', '05', '06', '07', '08', '09', '10', '11', '12'}\n",
    "years = {'2017', '2018', '2019', '2020', '2021', '2022', '2023'}\n",
    "articles_data = []\n",
    "timeline_vol_data = []\n",
    "timeline_tone_data = []"
   ]
  },
  {
   "cell_type": "code",
   "execution_count": 22,
   "metadata": {},
   "outputs": [],
   "source": [
    "# Call the GDELT API\n",
    "gd = GdeltDoc()\n",
    "for year in years:\n",
    "    for month in months:        \n",
    "        f = Filters(\n",
    "            keyword = \"russia ukraine\",\n",
    "            start_date = \"{}-{}-01\".format(year, month.zfill(2)),\n",
    "            end_date = \"{}-{}-{}\".format(year, month.zfill(2), \"30\" if month in {'04', '06', '09', '11'} else \"28\" if month == \"02\" else \"31\"),\n",
    "            num_records = 200\n",
    "        )\n",
    "\n",
    "        articles = gd.article_search(f)\n",
    "        articles['month'] = month\n",
    "        articles['year'] = year\n",
    "        articles_data.append(articles)\n",
    "        \n",
    "        timeline_vol = gd.timeline_search(\"timelinevolraw\", f)\n",
    "        timeline_vol_data.append(timeline_vol)\n",
    "        \n",
    "        timeline_tone = gd.timeline_search(\"timelinetone\", f)\n",
    "        timeline_tone_data.append(timeline_tone)"
   ]
  },
  {
   "cell_type": "code",
   "execution_count": 31,
   "metadata": {},
   "outputs": [],
   "source": [
    "# Make a single dataframe\n",
    "news_articles = pd.concat(articles_data, ignore_index=True)\n",
    "num_articles = pd.concat(timeline_vol_data, ignore_index=True)\n",
    "average_tone = pd.concat(timeline_tone_data, ignore_index=True)"
   ]
  },
  {
   "cell_type": "code",
   "execution_count": null,
   "metadata": {},
   "outputs": [],
   "source": [
    "# Saving the dataframes as csv files\n",
    "news_articles.to_csv(\"dataset/news_articles.csv\", index=False)\n",
    "num_articles.to_csv(\"dataset/num_articles.csv\", index=False)\n",
    "average_tone.to_csv(\"dataset/average_tone.csv\", index=False)"
   ]
  }
 ],
 "metadata": {
  "kernelspec": {
   "display_name": "Python 3",
   "language": "python",
   "name": "python3"
  },
  "language_info": {
   "codemirror_mode": {
    "name": "ipython",
    "version": 3
   },
   "file_extension": ".py",
   "mimetype": "text/x-python",
   "name": "python",
   "nbconvert_exporter": "python",
   "pygments_lexer": "ipython3",
   "version": "3.11.4"
  }
 },
 "nbformat": 4,
 "nbformat_minor": 2
}
