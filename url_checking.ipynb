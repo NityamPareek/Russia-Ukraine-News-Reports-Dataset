{
 "cells": [
  {
   "cell_type": "code",
   "execution_count": null,
   "metadata": {},
   "outputs": [],
   "source": [
    "# Imports\n",
    "import requests\n",
    "import pandas as pd"
   ]
  },
  {
   "cell_type": "code",
   "execution_count": null,
   "metadata": {},
   "outputs": [],
   "source": [
    "# Function to check if a URL is valid\n",
    "def is_valid_url(url):\n",
    "    try:\n",
    "        response = requests.head(url)\n",
    "        return response.status_code < 400\n",
    "    except requests.exceptions.RequestException:\n",
    "        return False"
   ]
  },
  {
   "cell_type": "code",
   "execution_count": null,
   "metadata": {},
   "outputs": [],
   "source": [
    "### Sample Usage ###\n",
    "# Assuming the pandas dataframe is stored as 'data.csv' in the current directory\n",
    "# data = pd.read_csv('data.csv')\n",
    "# data['is_valid_url'] = data['url'].apply(is_valid_url)"
   ]
  }
 ],
 "metadata": {
  "language_info": {
   "name": "python"
  }
 },
 "nbformat": 4,
 "nbformat_minor": 2
}
